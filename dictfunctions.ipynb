{
  "nbformat": 4,
  "nbformat_minor": 0,
  "metadata": {
    "colab": {
      "name": "dictfunctions",
      "provenance": [],
      "authorship_tag": "ABX9TyNGSTPwQ3EdzzdX63KwneQT",
      "include_colab_link": true
    },
    "kernelspec": {
      "name": "python3",
      "display_name": "Python 3"
    },
    "language_info": {
      "name": "python"
    }
  },
  "cells": [
    {
      "cell_type": "markdown",
      "metadata": {
        "id": "view-in-github",
        "colab_type": "text"
      },
      "source": [
        "<a href=\"https://colab.research.google.com/github/Cemozgeldi/Cemozgeldi/blob/main/dictfunctions.ipynb\" target=\"_parent\"><img src=\"https://colab.research.google.com/assets/colab-badge.svg\" alt=\"Open In Colab\"/></a>"
      ]
    },
    {
      "cell_type": "code",
      "execution_count": null,
      "metadata": {
        "colab": {
          "base_uri": "https://localhost:8080/"
        },
        "id": "eNfZbJ3ZH2FJ",
        "outputId": "17095518-de87-475e-8796-604dc0f6b093"
      },
      "outputs": [
        {
          "output_type": "execute_result",
          "data": {
            "text/plain": [
              "{'animal': 'dog',\n",
              " 'is_good': True,\n",
              " 'number': 40,\n",
              " 'pi': 3.14,\n",
              " 'planet': 'neptun'}"
            ]
          },
          "metadata": {},
          "execution_count": 87
        }
      ],
      "source": [
        "dict_by_dict = dict(animal = 'dog', planet ='neptun', number = 40, pi = 3.14, is_good = True)\n",
        "dict_by_dict # animal is good number pi sep=\\n planet bunlar hep key oldular  "
      ]
    },
    {
      "cell_type": "code",
      "source": [
        "print(type(dict_by_dict))"
      ],
      "metadata": {
        "colab": {
          "base_uri": "https://localhost:8080/"
        },
        "id": "z7emfWraIKBX",
        "outputId": "0a7bdd0b-5c36-4906-87bf-978e70fd70ab"
      },
      "execution_count": null,
      "outputs": [
        {
          "output_type": "stream",
          "name": "stdout",
          "text": [
            "<class 'dict'>\n"
          ]
        }
      ]
    },
    {
      "cell_type": "code",
      "source": [
        "dict_by_dict[\"animal\"] #dict function ile bir değişken atıyoruz o değişkeni alıp stringe çevirip key haline getiriyor"
      ],
      "metadata": {
        "colab": {
          "base_uri": "https://localhost:8080/",
          "height": 35
        },
        "id": "M7PAxAt8IRH9",
        "outputId": "472016a0-6fba-477e-db4b-6c4cdc7c633c"
      },
      "execution_count": null,
      "outputs": [
        {
          "output_type": "execute_result",
          "data": {
            "text/plain": [
              "'dog'"
            ],
            "application/vnd.google.colaboratory.intrinsic+json": {
              "type": "string"
            }
          },
          "metadata": {},
          "execution_count": 7
        }
      ]
    },
    {
      "cell_type": "code",
      "source": [
        "type(dict_by_dict[\"is_good\"])"
      ],
      "metadata": {
        "colab": {
          "base_uri": "https://localhost:8080/"
        },
        "id": "V_kfE6SiIiWV",
        "outputId": "4cf5fe9e-bf51-45bf-acb2-31e31659a1f1"
      },
      "execution_count": null,
      "outputs": [
        {
          "output_type": "execute_result",
          "data": {
            "text/plain": [
              "bool"
            ]
          },
          "metadata": {},
          "execution_count": 9
        }
      ]
    },
    {
      "cell_type": "code",
      "source": [
        "dict_by_family = dict(father = 'mahmut', mother = 'hatice', brother = 'Sıddık')"
      ],
      "metadata": {
        "id": "cu4k6ougIiZ7"
      },
      "execution_count": null,
      "outputs": []
    },
    {
      "cell_type": "code",
      "source": [
        "dict_by_family[\"father\"]"
      ],
      "metadata": {
        "colab": {
          "base_uri": "https://localhost:8080/",
          "height": 35
        },
        "id": "XdOrlFxoIidT",
        "outputId": "f816dbba-3ce4-4394-f807-0ef92114c531"
      },
      "execution_count": null,
      "outputs": [
        {
          "output_type": "execute_result",
          "data": {
            "text/plain": [
              "'mahmut'"
            ],
            "application/vnd.google.colaboratory.intrinsic+json": {
              "type": "string"
            }
          },
          "metadata": {},
          "execution_count": 15
        }
      ]
    },
    {
      "cell_type": "code",
      "source": [
        "print(dict_by_family)"
      ],
      "metadata": {
        "colab": {
          "base_uri": "https://localhost:8080/"
        },
        "id": "Xf1-7eQeIigu",
        "outputId": "c016f36a-b74a-484d-bbdb-ce46c0461237"
      },
      "execution_count": null,
      "outputs": [
        {
          "output_type": "stream",
          "name": "stdout",
          "text": [
            "{'father': 'mahmut', 'mother': 'hatice', 'brother': 'Sıddık'}\n"
          ]
        }
      ]
    },
    {
      "cell_type": "code",
      "source": [
        "empty = dict()"
      ],
      "metadata": {
        "id": "PnBmDN6eIjER"
      },
      "execution_count": null,
      "outputs": []
    },
    {
      "cell_type": "code",
      "source": [
        "print(empty)"
      ],
      "metadata": {
        "colab": {
          "base_uri": "https://localhost:8080/"
        },
        "id": "kI3tRbaHIjIR",
        "outputId": "8978f021-da5f-474b-cf04-e61fb89ff44c"
      },
      "execution_count": null,
      "outputs": [
        {
          "output_type": "stream",
          "name": "stdout",
          "text": [
            "{}\n"
          ]
        }
      ]
    },
    {
      "cell_type": "code",
      "source": [
        "dict_by_dict.update({\"yasemin\" : \"kadın\"})\n",
        "#dict_by_dict e update uyguluyoruz.iterable alıp dictionarye ilave ediyor.\n",
        "dict_by_dict"
      ],
      "metadata": {
        "colab": {
          "base_uri": "https://localhost:8080/"
        },
        "id": "vXRE6CqYIjLM",
        "outputId": "05c90547-3706-421c-b7e3-af9c996f7313"
      },
      "execution_count": null,
      "outputs": [
        {
          "output_type": "execute_result",
          "data": {
            "text/plain": [
              "{'animal': 'dog',\n",
              " 'is_good': True,\n",
              " 'number': 40,\n",
              " 'pi': 3.14,\n",
              " 'planet': 'neptun',\n",
              " 'yasemin': 'kadın'}"
            ]
          },
          "metadata": {},
          "execution_count": 19
        }
      ]
    },
    {
      "cell_type": "code",
      "source": [
        "print(dict_by_dict.items(), '\\n')"
      ],
      "metadata": {
        "colab": {
          "base_uri": "https://localhost:8080/"
        },
        "id": "iKL5FBWJIjOU",
        "outputId": "64f3f52d-b9c7-4b02-ad61-8c7741ddc628"
      },
      "execution_count": null,
      "outputs": [
        {
          "output_type": "stream",
          "name": "stdout",
          "text": [
            "dict_items([('animal', 'dog'), ('planet', 'neptun'), ('number', 40), ('pi', 3.14), ('is_good', True), ('yasemin', 'kadın'), ('ahmet', 'bay'), (11, 'integer')]) \n",
            "\n"
          ]
        }
      ]
    },
    {
      "cell_type": "code",
      "source": [
        "dict_by_dict.update({\"ahmet\" : \"bay\", 11 : \"integer\"})"
      ],
      "metadata": {
        "id": "IDg1zJ4PIjRG"
      },
      "execution_count": null,
      "outputs": []
    },
    {
      "cell_type": "code",
      "source": [
        "dict_by_dict"
      ],
      "metadata": {
        "colab": {
          "base_uri": "https://localhost:8080/"
        },
        "id": "1NcvqtpzIjTw",
        "outputId": "c0d36b5d-ab81-4cd5-ace5-cb62957a37d1"
      },
      "execution_count": null,
      "outputs": [
        {
          "output_type": "execute_result",
          "data": {
            "text/plain": [
              "{11: 'integer',\n",
              " 'ahmet': 'bay',\n",
              " 'animal': 'dog',\n",
              " 'is_good': True,\n",
              " 'number': 40,\n",
              " 'pi': 3.14,\n",
              " 'planet': 'neptun',\n",
              " 'yasemin': 'kadın'}"
            ]
          },
          "metadata": {},
          "execution_count": 23
        }
      ]
    },
    {
      "cell_type": "code",
      "source": [
        ""
      ],
      "metadata": {
        "id": "oURg15S9QbNK"
      },
      "execution_count": null,
      "outputs": []
    },
    {
      "cell_type": "code",
      "source": [
        "len(dict_by_dict.items())"
      ],
      "metadata": {
        "colab": {
          "base_uri": "https://localhost:8080/"
        },
        "id": "qeriWuxmQbQc",
        "outputId": "a44cf11f-9356-4cfb-95c9-75a5e2d93581"
      },
      "execution_count": null,
      "outputs": [
        {
          "output_type": "execute_result",
          "data": {
            "text/plain": [
              "8"
            ]
          },
          "metadata": {},
          "execution_count": 32
        }
      ]
    },
    {
      "cell_type": "code",
      "source": [
        "list(dict_by_dict.items())"
      ],
      "metadata": {
        "colab": {
          "base_uri": "https://localhost:8080/"
        },
        "id": "cfs1-uR8QbTv",
        "outputId": "e92c6000-e536-4a65-982b-9d994ccf5500"
      },
      "execution_count": null,
      "outputs": [
        {
          "output_type": "execute_result",
          "data": {
            "text/plain": [
              "[('animal', 'dog'),\n",
              " ('planet', 'neptun'),\n",
              " ('number', 40),\n",
              " ('pi', 3.14),\n",
              " ('is_good', True),\n",
              " ('yasemin', 'kadın'),\n",
              " ('ahmet', 'bay'),\n",
              " (11, 'integer')]"
            ]
          },
          "metadata": {},
          "execution_count": 33
        }
      ]
    },
    {
      "cell_type": "code",
      "source": [
        "len(list(dict_by_dict.items()))"
      ],
      "metadata": {
        "colab": {
          "base_uri": "https://localhost:8080/"
        },
        "id": "jjTbbE1RQbXA",
        "outputId": "3daaf289-085b-4623-e724-56508fe276a8"
      },
      "execution_count": null,
      "outputs": [
        {
          "output_type": "execute_result",
          "data": {
            "text/plain": [
              "8"
            ]
          },
          "metadata": {},
          "execution_count": 34
        }
      ]
    },
    {
      "cell_type": "code",
      "source": [
        "dict_by_dict = {\"animal\" : \"dog\", \n",
        "                \"planet\" : \"neptun\", \n",
        "                \"number\" : 40, \n",
        "                \"pi\" : 3.14, \n",
        "                \"is_good\" : True}"
      ],
      "metadata": {
        "id": "ahLFfnrwQba9"
      },
      "execution_count": null,
      "outputs": []
    },
    {
      "cell_type": "code",
      "source": [
        "print(dict_by_dict.items(), '\\n')\n",
        "print(dict_by_dict.keys(), '\\n')\n",
        "print(dict_by_dict.values(), '\\n')"
      ],
      "metadata": {
        "colab": {
          "base_uri": "https://localhost:8080/"
        },
        "id": "wc3VrMk9Qbeg",
        "outputId": "27d89ceb-70dc-4b81-daa0-3d1cc0729f94"
      },
      "execution_count": null,
      "outputs": [
        {
          "output_type": "stream",
          "name": "stdout",
          "text": [
            "dict_items([('animal', 'dog'), ('planet', 'neptun'), ('number', 40), ('pi', 3.14), ('is_good', True)]) \n",
            "\n",
            "dict_keys(['animal', 'planet', 'number', 'pi', 'is_good']) \n",
            "\n",
            "dict_values(['dog', 'neptun', 40, 3.14, True]) \n",
            "\n"
          ]
        }
      ]
    },
    {
      "cell_type": "code",
      "source": [
        "dict_by_dict.items()"
      ],
      "metadata": {
        "colab": {
          "base_uri": "https://localhost:8080/"
        },
        "id": "1XthYd8cQbh5",
        "outputId": "6bb048b1-c333-4990-8e2e-8cf85ace0503"
      },
      "execution_count": null,
      "outputs": [
        {
          "output_type": "execute_result",
          "data": {
            "text/plain": [
              "dict_items([('animal', 'dog'), ('planet', 'neptun'), ('number', 40), ('pi', 3.14), ('is_good', True)])"
            ]
          },
          "metadata": {},
          "execution_count": 37
        }
      ]
    },
    {
      "cell_type": "code",
      "source": [
        "x = dict_by_dict.items() #bir objeyi 2 değere atayamayız."
      ],
      "metadata": {
        "id": "OK9u_oMUQblp"
      },
      "execution_count": null,
      "outputs": []
    },
    {
      "cell_type": "code",
      "source": [
        "x"
      ],
      "metadata": {
        "colab": {
          "base_uri": "https://localhost:8080/"
        },
        "id": "7wFTlblSQbpX",
        "outputId": "b32bfc48-369b-4cc6-b410-58a532f4eec0"
      },
      "execution_count": null,
      "outputs": [
        {
          "output_type": "execute_result",
          "data": {
            "text/plain": [
              "dict_items([('animal', 'dog'), ('planet', 'neptun'), ('number', 40), ('pi', 3.14), ('is_good', True)])"
            ]
          },
          "metadata": {},
          "execution_count": 40
        }
      ]
    },
    {
      "cell_type": "code",
      "source": [
        "list(dict_by_dict.items())"
      ],
      "metadata": {
        "colab": {
          "base_uri": "https://localhost:8080/"
        },
        "id": "hQryIJbwQbsp",
        "outputId": "cd663d16-91f3-4536-9777-f862c112c1ab"
      },
      "execution_count": null,
      "outputs": [
        {
          "output_type": "execute_result",
          "data": {
            "text/plain": [
              "[('animal', 'dog'),\n",
              " ('planet', 'neptun'),\n",
              " ('number', 40),\n",
              " ('pi', 3.14),\n",
              " ('is_good', True)]"
            ]
          },
          "metadata": {},
          "execution_count": 42
        }
      ]
    },
    {
      "cell_type": "code",
      "source": [
        "items = list(dict_by_dict.items())"
      ],
      "metadata": {
        "id": "UAXYij8kQcAB"
      },
      "execution_count": null,
      "outputs": []
    },
    {
      "cell_type": "code",
      "source": [
        "x, y = items[0]"
      ],
      "metadata": {
        "id": "9F3yhuppaJxW"
      },
      "execution_count": null,
      "outputs": []
    },
    {
      "cell_type": "code",
      "source": [
        "x"
      ],
      "metadata": {
        "colab": {
          "base_uri": "https://localhost:8080/",
          "height": 35
        },
        "id": "lpO-PIdYaJ2S",
        "outputId": "33fe1fa3-699c-45cf-fbfd-1f8d465993c3"
      },
      "execution_count": null,
      "outputs": [
        {
          "output_type": "execute_result",
          "data": {
            "text/plain": [
              "'animal'"
            ],
            "application/vnd.google.colaboratory.intrinsic+json": {
              "type": "string"
            }
          },
          "metadata": {},
          "execution_count": 46
        }
      ]
    },
    {
      "cell_type": "code",
      "source": [
        "y"
      ],
      "metadata": {
        "colab": {
          "base_uri": "https://localhost:8080/",
          "height": 35
        },
        "id": "95GDgWD9aJ6i",
        "outputId": "04f37ca2-7948-46a2-a2f4-2dc7e7cc3436"
      },
      "execution_count": null,
      "outputs": [
        {
          "output_type": "execute_result",
          "data": {
            "text/plain": [
              "'dog'"
            ],
            "application/vnd.google.colaboratory.intrinsic+json": {
              "type": "string"
            }
          },
          "metadata": {},
          "execution_count": 47
        }
      ]
    },
    {
      "cell_type": "code",
      "source": [
        "dict_by_dict.keys()"
      ],
      "metadata": {
        "colab": {
          "base_uri": "https://localhost:8080/"
        },
        "id": "3QQQsGm4aJ-Z",
        "outputId": "e2c22816-149b-4e05-f105-e5616d6fd7b1"
      },
      "execution_count": null,
      "outputs": [
        {
          "output_type": "execute_result",
          "data": {
            "text/plain": [
              "dict_keys(['animal', 'planet', 'number', 'pi', 'is_good'])"
            ]
          },
          "metadata": {},
          "execution_count": 50
        }
      ]
    },
    {
      "cell_type": "code",
      "source": [
        "tuple(dict_by_dict.keys())"
      ],
      "metadata": {
        "colab": {
          "base_uri": "https://localhost:8080/"
        },
        "id": "qgcRZkXlaKCN",
        "outputId": "a32de123-d674-4ef1-93ab-f47988f2015b"
      },
      "execution_count": null,
      "outputs": [
        {
          "output_type": "execute_result",
          "data": {
            "text/plain": [
              "('animal', 'planet', 'number', 'pi', 'is_good')"
            ]
          },
          "metadata": {},
          "execution_count": 51
        }
      ]
    },
    {
      "cell_type": "code",
      "source": [
        "dict_by_dict.values()"
      ],
      "metadata": {
        "colab": {
          "base_uri": "https://localhost:8080/"
        },
        "id": "IK1VOVfcaKF3",
        "outputId": "dc8740f2-6bd3-4876-a455-38b7b2541643"
      },
      "execution_count": null,
      "outputs": [
        {
          "output_type": "execute_result",
          "data": {
            "text/plain": [
              "dict_values(['dog', 'neptun', 40, 3.14, True])"
            ]
          },
          "metadata": {},
          "execution_count": 52
        }
      ]
    },
    {
      "cell_type": "code",
      "source": [
        "set(dict_by_dict.values())"
      ],
      "metadata": {
        "colab": {
          "base_uri": "https://localhost:8080/"
        },
        "id": "xmGaexs_aKJJ",
        "outputId": "7f10578c-d13e-4ee5-a66f-0e13069e138e"
      },
      "execution_count": null,
      "outputs": [
        {
          "output_type": "execute_result",
          "data": {
            "text/plain": [
              "{3.14, 40, True, 'dog', 'neptun'}"
            ]
          },
          "metadata": {},
          "execution_count": 53
        }
      ]
    },
    {
      "cell_type": "code",
      "source": [
        "listem = [\"a\", \"b\", \"c\"]\n",
        "listem.insert(3, \"d\")"
      ],
      "metadata": {
        "id": "LFvPK7NGaKMX"
      },
      "execution_count": null,
      "outputs": []
    },
    {
      "cell_type": "code",
      "source": [
        "listem"
      ],
      "metadata": {
        "colab": {
          "base_uri": "https://localhost:8080/"
        },
        "id": "JeZy07StaKPV",
        "outputId": "a3324837-9dc7-4ae0-dec5-1eb281506258"
      },
      "execution_count": null,
      "outputs": [
        {
          "output_type": "execute_result",
          "data": {
            "text/plain": [
              "['a', 'b', 'c', 'd']"
            ]
          },
          "metadata": {},
          "execution_count": 55
        }
      ]
    },
    {
      "cell_type": "code",
      "source": [
        "listem.insert(2, \"g\")"
      ],
      "metadata": {
        "id": "T_F6KgaDaKTp"
      },
      "execution_count": null,
      "outputs": []
    },
    {
      "cell_type": "code",
      "source": [
        "listem"
      ],
      "metadata": {
        "colab": {
          "base_uri": "https://localhost:8080/"
        },
        "id": "WZl0zYgIaKXC",
        "outputId": "365f0430-f2e4-4590-b745-1e58f99e286f"
      },
      "execution_count": null,
      "outputs": [
        {
          "output_type": "execute_result",
          "data": {
            "text/plain": [
              "['a', 'b', 'g', 'c', 'd']"
            ]
          },
          "metadata": {},
          "execution_count": 57
        }
      ]
    },
    {
      "cell_type": "code",
      "source": [
        "dict_by_family"
      ],
      "metadata": {
        "colab": {
          "base_uri": "https://localhost:8080/"
        },
        "id": "NywtXH1iaKZ9",
        "outputId": "93547aae-11a3-4087-a564-723c85dc3edb"
      },
      "execution_count": null,
      "outputs": [
        {
          "output_type": "execute_result",
          "data": {
            "text/plain": [
              "{'father': 'mahmut', 'mother': 'hatice', 'sister': 'müberra'}"
            ]
          },
          "metadata": {},
          "execution_count": 65
        }
      ]
    },
    {
      "cell_type": "code",
      "source": [
        "dict_by_family.update({\"sister\" : \"müberra\"})"
      ],
      "metadata": {
        "id": "qpR9XzEBaKcx"
      },
      "execution_count": null,
      "outputs": []
    },
    {
      "cell_type": "code",
      "source": [
        "dict_by_family"
      ],
      "metadata": {
        "colab": {
          "base_uri": "https://localhost:8080/"
        },
        "id": "yS84SFaTaKf5",
        "outputId": "4d7d4dd4-7399-4fe3-bf9b-82baa95fa9f9"
      },
      "execution_count": null,
      "outputs": [
        {
          "output_type": "execute_result",
          "data": {
            "text/plain": [
              "{'brother': 'Sıddık',\n",
              " 'father': 'mahmut',\n",
              " 'mother': 'hatice',\n",
              " 'sister': 'müberra'}"
            ]
          },
          "metadata": {},
          "execution_count": 61
        }
      ]
    },
    {
      "cell_type": "code",
      "source": [
        "del dict_by_family[\"sister\"] #silmek istediğin keywordü yazıp silebilirsin bu yolla."
      ],
      "metadata": {
        "id": "mED6yHUZaKiw"
      },
      "execution_count": null,
      "outputs": []
    },
    {
      "cell_type": "code",
      "source": [
        "dict_by_family"
      ],
      "metadata": {
        "colab": {
          "base_uri": "https://localhost:8080/"
        },
        "id": "cdiCBgcAaKlQ",
        "outputId": "a5d3fc4c-b40e-4750-977e-5b68bc72d08b"
      },
      "execution_count": null,
      "outputs": [
        {
          "output_type": "execute_result",
          "data": {
            "text/plain": [
              "{'father': 'mahmut', 'mother': 'hatice'}"
            ]
          },
          "metadata": {},
          "execution_count": 67
        }
      ]
    },
    {
      "cell_type": "code",
      "source": [
        "dict_by_dict"
      ],
      "metadata": {
        "colab": {
          "base_uri": "https://localhost:8080/"
        },
        "id": "2PjyggWDaKn8",
        "outputId": "71299c6c-7c83-4b63-fc92-83982303b57d"
      },
      "execution_count": null,
      "outputs": [
        {
          "output_type": "execute_result",
          "data": {
            "text/plain": [
              "{'animal': 'dog',\n",
              " 'is_good': True,\n",
              " 'number': 40,\n",
              " 'pi': 3.14,\n",
              " 'planet': 'neptun'}"
            ]
          },
          "metadata": {},
          "execution_count": 69
        }
      ]
    },
    {
      "cell_type": "code",
      "source": [
        "del dict_by_dict[\"animal\"], dict_by_dict[\"is_good\"]"
      ],
      "metadata": {
        "id": "W53UKTLmaKq4"
      },
      "execution_count": null,
      "outputs": []
    },
    {
      "cell_type": "code",
      "source": [
        "dict_by_dict"
      ],
      "metadata": {
        "colab": {
          "base_uri": "https://localhost:8080/"
        },
        "id": "6XOkfvNTaKtb",
        "outputId": "00c6bd8d-58e3-4256-81ca-169773af2f89"
      },
      "execution_count": null,
      "outputs": [
        {
          "output_type": "execute_result",
          "data": {
            "text/plain": [
              "{'number': 40, 'pi': 3.14, 'planet': 'neptun'}"
            ]
          },
          "metadata": {},
          "execution_count": 71
        }
      ]
    },
    {
      "cell_type": "code",
      "source": [
        "a = \"clarusway\"\n",
        "print(a)"
      ],
      "metadata": {
        "colab": {
          "base_uri": "https://localhost:8080/"
        },
        "id": "I8b5VemwQcJG",
        "outputId": "7e3ab0a2-ff8f-4074-94cb-c679db826e5d"
      },
      "execution_count": null,
      "outputs": [
        {
          "output_type": "stream",
          "name": "stdout",
          "text": [
            "clarusway\n"
          ]
        }
      ]
    },
    {
      "cell_type": "code",
      "source": [
        "del a"
      ],
      "metadata": {
        "id": "CM80vttyQcM4"
      },
      "execution_count": null,
      "outputs": []
    },
    {
      "cell_type": "code",
      "source": [
        "\"i\" in \"clarusway\" #True veya False verir."
      ],
      "metadata": {
        "colab": {
          "base_uri": "https://localhost:8080/"
        },
        "id": "UXSG-NVnfVWc",
        "outputId": "a34eb6b7-9d66-49e3-82e2-48100e0145b6"
      },
      "execution_count": null,
      "outputs": [
        {
          "output_type": "execute_result",
          "data": {
            "text/plain": [
              "False"
            ]
          },
          "metadata": {},
          "execution_count": 77
        }
      ]
    },
    {
      "cell_type": "code",
      "source": [
        "\"a\" in \"clarusway\""
      ],
      "metadata": {
        "colab": {
          "base_uri": "https://localhost:8080/"
        },
        "id": "6uEBdxDxf1Mh",
        "outputId": "abc75c70-5aca-4119-ca4e-11fc54237746"
      },
      "execution_count": null,
      "outputs": [
        {
          "output_type": "execute_result",
          "data": {
            "text/plain": [
              "True"
            ]
          },
          "metadata": {},
          "execution_count": 78
        }
      ]
    },
    {
      "cell_type": "code",
      "source": [
        "bootcamp = \"c l a r u s w a y\""
      ],
      "metadata": {
        "id": "IkOgGXjxgDIG"
      },
      "execution_count": null,
      "outputs": []
    },
    {
      "cell_type": "code",
      "source": [
        "bootcamp.split()"
      ],
      "metadata": {
        "colab": {
          "base_uri": "https://localhost:8080/"
        },
        "id": "tBlox6frgRpo",
        "outputId": "977e3733-ea42-4f7a-ead0-2b9ef09a57e1"
      },
      "execution_count": null,
      "outputs": [
        {
          "output_type": "execute_result",
          "data": {
            "text/plain": [
              "['c', 'l', 'a', 'r', 'u', 's', 'w', 'a', 'y']"
            ]
          },
          "metadata": {},
          "execution_count": 80
        }
      ]
    },
    {
      "cell_type": "code",
      "source": [
        "bootcamp = \"c l a r u s w a y\".split()\n",
        "bootcamp"
      ],
      "metadata": {
        "colab": {
          "base_uri": "https://localhost:8080/"
        },
        "id": "7iibUGXOgUkn",
        "outputId": "7d0d5c48-ba16-42c0-d4b9-1a1822196cc0"
      },
      "execution_count": null,
      "outputs": [
        {
          "output_type": "execute_result",
          "data": {
            "text/plain": [
              "['c', 'l', 'a', 'r', 'u', 's', 'w', 'a', 'y']"
            ]
          },
          "metadata": {},
          "execution_count": 81
        }
      ]
    },
    {
      "cell_type": "code",
      "source": [
        "ıvırzıvırvızır = \"ali-deli-veli\".split(\"-\")\n",
        "ıvırzıvırvızır"
      ],
      "metadata": {
        "colab": {
          "base_uri": "https://localhost:8080/"
        },
        "id": "jKKH5O_TgqvR",
        "outputId": "622ae44b-650d-4682-fbbf-6a9b6ba96d37"
      },
      "execution_count": null,
      "outputs": [
        {
          "output_type": "execute_result",
          "data": {
            "text/plain": [
              "['ali', 'deli', 'veli']"
            ]
          },
          "metadata": {},
          "execution_count": 84
        }
      ]
    },
    {
      "cell_type": "code",
      "source": [
        "dict_by_dict"
      ],
      "metadata": {
        "colab": {
          "base_uri": "https://localhost:8080/"
        },
        "id": "TpVAT8drloq7",
        "outputId": "3e757c75-6967-4930-97e6-00eaa9ff4c75"
      },
      "execution_count": null,
      "outputs": [
        {
          "output_type": "execute_result",
          "data": {
            "text/plain": [
              "{'animal': 'dog',\n",
              " 'is_good': True,\n",
              " 'number': 40,\n",
              " 'pi': 3.14,\n",
              " 'planet': 'neptun'}"
            ]
          },
          "metadata": {},
          "execution_count": 88
        }
      ]
    },
    {
      "cell_type": "code",
      "source": [
        "'dog' in dict_by_dict"
      ],
      "metadata": {
        "colab": {
          "base_uri": "https://localhost:8080/"
        },
        "id": "lnX0l7tolotQ",
        "outputId": "78c80148-1b78-46ab-e36b-a188f8020f3b"
      },
      "execution_count": null,
      "outputs": [
        {
          "output_type": "execute_result",
          "data": {
            "text/plain": [
              "False"
            ]
          },
          "metadata": {},
          "execution_count": 89
        }
      ]
    },
    {
      "cell_type": "code",
      "source": [
        "\"dog\" in dict_by_dict.values()"
      ],
      "metadata": {
        "colab": {
          "base_uri": "https://localhost:8080/"
        },
        "id": "TjOGulOHlovm",
        "outputId": "7d2a5890-6f60-4be2-95f9-e27a0baa95a6"
      },
      "execution_count": null,
      "outputs": [
        {
          "output_type": "execute_result",
          "data": {
            "text/plain": [
              "True"
            ]
          },
          "metadata": {},
          "execution_count": 90
        }
      ]
    },
    {
      "cell_type": "code",
      "source": [
        "\"dog\" not in dict_by_dict"
      ],
      "metadata": {
        "colab": {
          "base_uri": "https://localhost:8080/"
        },
        "id": "sGlpiP69loxf",
        "outputId": "c9e84b12-57cf-4076-dfcb-aafddb7e20b7"
      },
      "execution_count": null,
      "outputs": [
        {
          "output_type": "execute_result",
          "data": {
            "text/plain": [
              "True"
            ]
          },
          "metadata": {},
          "execution_count": 91
        }
      ]
    },
    {
      "cell_type": "code",
      "source": [
        "#nested dictionaries"
      ],
      "metadata": {
        "id": "_kYGVX6alozi"
      },
      "execution_count": null,
      "outputs": []
    },
    {
      "cell_type": "code",
      "source": [
        "school_records = {\n",
        "    'personal_info':\n",
        "        {'kid':{'tom':{'class':'intermediate', 'age':10},\n",
        "                'sue':{'class':'elemantary', 'age':8}\n",
        "               },\n",
        "         'teen':{'joseph': {'class':'college', 'age':19},\n",
        "                 'marry': {'class':'high school', 'age':16}\n",
        "                },\n",
        "        },\n",
        "    'grades_info':\n",
        "        {'kid':{'tom':{'math':88, 'speech':69},\n",
        "                'sue':{'math':90, 'speech':81}\n",
        "               },\n",
        "         'teen':{'joseph':{'coding':80, 'math':89},\n",
        "                 'marry':{'coding':70, 'math':96}\n",
        "                },\n",
        "        }\n",
        "}\n"
      ],
      "metadata": {
        "id": "fuJEh9Pilo1n"
      },
      "execution_count": null,
      "outputs": []
    },
    {
      "cell_type": "code",
      "source": [
        "school_records[\"personal_info\"] #personal_info=key"
      ],
      "metadata": {
        "colab": {
          "base_uri": "https://localhost:8080/"
        },
        "id": "0iw-2BGqlo38",
        "outputId": "4db4d12d-f0dd-4416-a202-36e0183adcfc"
      },
      "execution_count": null,
      "outputs": [
        {
          "output_type": "execute_result",
          "data": {
            "text/plain": [
              "{'kid': {'sue': {'age': 8, 'class': 'elemantary'},\n",
              "  'tom': {'age': 10, 'class': 'intermediate'}},\n",
              " 'teen': {'joseph': {'age': 19, 'class': 'college'},\n",
              "  'marry': {'age': 16, 'class': 'high school'}}}"
            ]
          },
          "metadata": {},
          "execution_count": 95
        }
      ]
    },
    {
      "cell_type": "code",
      "source": [
        "school_records['grades_info'] #grades_info = 2.key"
      ],
      "metadata": {
        "colab": {
          "base_uri": "https://localhost:8080/"
        },
        "id": "SWcTDK9Qlo6T",
        "outputId": "61ecc85b-8d36-4914-eebf-6633c5f7a5a3"
      },
      "execution_count": null,
      "outputs": [
        {
          "output_type": "execute_result",
          "data": {
            "text/plain": [
              "{'kid': {'sue': {'math': 90, 'speech': 81}, 'tom': {'math': 88, 'speech': 69}},\n",
              " 'teen': {'joseph': {'coding': 80, 'math': 89},\n",
              "  'marry': {'coding': 70, 'math': 96}}}"
            ]
          },
          "metadata": {},
          "execution_count": 97
        }
      ]
    },
    {
      "cell_type": "code",
      "source": [
        "school_records[\"personal_info\"][\"kid\"]"
      ],
      "metadata": {
        "colab": {
          "base_uri": "https://localhost:8080/"
        },
        "id": "2wm-RJFolo8o",
        "outputId": "109b26c1-6545-4de3-dce9-2aefb1dbd868"
      },
      "execution_count": null,
      "outputs": [
        {
          "output_type": "execute_result",
          "data": {
            "text/plain": [
              "{'sue': {'age': 8, 'class': 'elemantary'},\n",
              " 'tom': {'age': 10, 'class': 'intermediate'}}"
            ]
          },
          "metadata": {},
          "execution_count": 98
        }
      ]
    },
    {
      "cell_type": "code",
      "source": [
        "school_records[\"grades_info\"][\"teen\"]"
      ],
      "metadata": {
        "colab": {
          "base_uri": "https://localhost:8080/"
        },
        "id": "ibio3Mb0lo-_",
        "outputId": "6bf76ea9-2376-463e-b142-020672b76352"
      },
      "execution_count": null,
      "outputs": [
        {
          "output_type": "execute_result",
          "data": {
            "text/plain": [
              "{'joseph': {'coding': 80, 'math': 89}, 'marry': {'coding': 70, 'math': 96}}"
            ]
          },
          "metadata": {},
          "execution_count": 99
        }
      ]
    },
    {
      "cell_type": "code",
      "source": [
        "school_records['personal_info'][\"kid\"][\"tom\"]"
      ],
      "metadata": {
        "colab": {
          "base_uri": "https://localhost:8080/"
        },
        "id": "-D7ezxrRlpBE",
        "outputId": "70b63f90-d561-4409-e7e7-c43c3fa693dc"
      },
      "execution_count": null,
      "outputs": [
        {
          "output_type": "execute_result",
          "data": {
            "text/plain": [
              "{'age': 10, 'class': 'intermediate'}"
            ]
          },
          "metadata": {},
          "execution_count": 100
        }
      ]
    },
    {
      "cell_type": "code",
      "source": [
        "school_records['personal_info'][\"kid\"][\"tom\"][\"class\"]"
      ],
      "metadata": {
        "colab": {
          "base_uri": "https://localhost:8080/",
          "height": 35
        },
        "id": "MmOWf6DdlpDt",
        "outputId": "49757d3a-9e67-4d04-976d-c18c0920a1eb"
      },
      "execution_count": null,
      "outputs": [
        {
          "output_type": "execute_result",
          "data": {
            "text/plain": [
              "'intermediate'"
            ],
            "application/vnd.google.colaboratory.intrinsic+json": {
              "type": "string"
            }
          },
          "metadata": {},
          "execution_count": 101
        }
      ]
    },
    {
      "cell_type": "code",
      "source": [
        "school_records['grades_info'][\"teen\"][\"joseph\"]"
      ],
      "metadata": {
        "colab": {
          "base_uri": "https://localhost:8080/"
        },
        "id": "prNbUgsvlpH0",
        "outputId": "bf553074-d30b-4a0d-a621-68856aa456ce"
      },
      "execution_count": null,
      "outputs": [
        {
          "output_type": "execute_result",
          "data": {
            "text/plain": [
              "{'coding': 80, 'math': 89}"
            ]
          },
          "metadata": {},
          "execution_count": 103
        }
      ]
    },
    {
      "cell_type": "code",
      "source": [
        "list(school_records[\"grades_info\"][\"teen\"][\"joseph\"])"
      ],
      "metadata": {
        "colab": {
          "base_uri": "https://localhost:8080/"
        },
        "id": "4WUuATy1lpJ6",
        "outputId": "d890f07e-f2b3-40e2-e355-317779a5b0b8"
      },
      "execution_count": null,
      "outputs": [
        {
          "output_type": "execute_result",
          "data": {
            "text/plain": [
              "['coding', 'math']"
            ]
          },
          "metadata": {},
          "execution_count": 104
        }
      ]
    },
    {
      "cell_type": "code",
      "source": [
        "numbers = [1, 3, 7, 4, 3, 0, 3, 6, 3]\n",
        "count = numbers.count(3)\n",
        "print('Count of 3', count)"
      ],
      "metadata": {
        "colab": {
          "base_uri": "https://localhost:8080/"
        },
        "id": "injRr0dNlpMR",
        "outputId": "f227461e-c9d8-4e8a-d7fc-f6004bfa3798"
      },
      "execution_count": null,
      "outputs": [
        {
          "output_type": "stream",
          "name": "stdout",
          "text": [
            "Count of 3 4\n"
          ]
        }
      ]
    },
    {
      "cell_type": "code",
      "source": [
        "numbers = [1, 3, 7, 4, 3, 0, 3, 6, 3]\n",
        "mod,num = 0,0\n",
        "for i in numbers:\n",
        "    if numbers.count(i)> mod:\n",
        "        mod=numbers.count(i)\n",
        "        num=i\n",
        "print(\"the most frequent number is {} and it was {} times repeated\".format(num,mod))\n",
        "\n"
      ],
      "metadata": {
        "colab": {
          "base_uri": "https://localhost:8080/"
        },
        "id": "JYeLgKcplpOW",
        "outputId": "db37955c-34ad-482b-b88e-38927c2be729"
      },
      "execution_count": null,
      "outputs": [
        {
          "output_type": "stream",
          "name": "stdout",
          "text": [
            "the most frequent number is 3 and it was 4 times repeated\n"
          ]
        }
      ]
    },
    {
      "cell_type": "code",
      "source": [
        "sequence = [1, 1, 1, 1, 2, 2, 2, 3, 3, 4]"
      ],
      "metadata": {
        "id": "6ImqHAnblpVH"
      },
      "execution_count": null,
      "outputs": []
    },
    {
      "cell_type": "code",
      "source": [
        "max(sequence)"
      ],
      "metadata": {
        "colab": {
          "base_uri": "https://localhost:8080/"
        },
        "id": "nvLEQY57lpXN",
        "outputId": "c03f6ece-8a50-4ef8-ec4d-329685cf6cde"
      },
      "execution_count": null,
      "outputs": [
        {
          "output_type": "execute_result",
          "data": {
            "text/plain": [
              "4"
            ]
          },
          "metadata": {},
          "execution_count": 111
        }
      ]
    },
    {
      "cell_type": "code",
      "source": [
        "from collections import Counter\n",
        "Counter(numbers)"
      ],
      "metadata": {
        "colab": {
          "base_uri": "https://localhost:8080/"
        },
        "id": "oZ5E0gz-lpZi",
        "outputId": "47a7587e-2536-430d-d1f9-705b90bfc16b"
      },
      "execution_count": null,
      "outputs": [
        {
          "output_type": "execute_result",
          "data": {
            "text/plain": [
              "Counter({0: 1, 1: 1, 3: 4, 4: 1, 6: 1, 7: 1})"
            ]
          },
          "metadata": {},
          "execution_count": 112
        }
      ]
    },
    {
      "cell_type": "code",
      "source": [
        "sequence.count(1)"
      ],
      "metadata": {
        "colab": {
          "base_uri": "https://localhost:8080/"
        },
        "id": "0ujt1jQulpb-",
        "outputId": "01a06b1c-2286-41c7-eace-b27f816b6cd7"
      },
      "execution_count": null,
      "outputs": [
        {
          "output_type": "execute_result",
          "data": {
            "text/plain": [
              "4"
            ]
          },
          "metadata": {},
          "execution_count": 114
        }
      ]
    },
    {
      "cell_type": "code",
      "source": [
        "max(numbers)"
      ],
      "metadata": {
        "colab": {
          "base_uri": "https://localhost:8080/"
        },
        "id": "iN8Xb3_vlpd9",
        "outputId": "e3d20491-b696-4be7-c1e7-f33b8e50b663"
      },
      "execution_count": null,
      "outputs": [
        {
          "output_type": "execute_result",
          "data": {
            "text/plain": [
              "7"
            ]
          },
          "metadata": {},
          "execution_count": 115
        }
      ]
    },
    {
      "cell_type": "code",
      "source": [
        "numbers.count(7)"
      ],
      "metadata": {
        "colab": {
          "base_uri": "https://localhost:8080/"
        },
        "id": "1NmFXOMQlpgV",
        "outputId": "77e7e336-0dde-4bf5-9667-a0c938f80167"
      },
      "execution_count": null,
      "outputs": [
        {
          "output_type": "execute_result",
          "data": {
            "text/plain": [
              "1"
            ]
          },
          "metadata": {},
          "execution_count": 116
        }
      ]
    },
    {
      "cell_type": "code",
      "source": [
        "numbers"
      ],
      "metadata": {
        "colab": {
          "base_uri": "https://localhost:8080/"
        },
        "id": "kPSMuyLklpi6",
        "outputId": "c0f2ac2a-aa84-49df-cb4a-ff4c5463350a"
      },
      "execution_count": null,
      "outputs": [
        {
          "output_type": "execute_result",
          "data": {
            "text/plain": [
              "[1, 3, 7, 4, 3, 0, 3, 6, 3]"
            ]
          },
          "metadata": {},
          "execution_count": 117
        }
      ]
    },
    {
      "cell_type": "code",
      "source": [
        "numbers.count(max(numbers))"
      ],
      "metadata": {
        "colab": {
          "base_uri": "https://localhost:8080/"
        },
        "id": "C5w2D4aQlpno",
        "outputId": "e68da0e9-aeb3-48f5-b2e8-c7150c11a1eb"
      },
      "execution_count": null,
      "outputs": [
        {
          "output_type": "execute_result",
          "data": {
            "text/plain": [
              "1"
            ]
          },
          "metadata": {},
          "execution_count": 119
        }
      ]
    },
    {
      "cell_type": "code",
      "source": [
        "max(numbers, key = numbers.count)"
      ],
      "metadata": {
        "colab": {
          "base_uri": "https://localhost:8080/"
        },
        "id": "WGIKgzqWlpsC",
        "outputId": "26cceb6b-b7a7-4d92-db05-67a8472aea1a"
      },
      "execution_count": null,
      "outputs": [
        {
          "output_type": "execute_result",
          "data": {
            "text/plain": [
              "3"
            ]
          },
          "metadata": {},
          "execution_count": 124
        }
      ]
    },
    {
      "cell_type": "code",
      "source": [
        "numbers.count(max(numbers, key = numbers.count))"
      ],
      "metadata": {
        "colab": {
          "base_uri": "https://localhost:8080/"
        },
        "id": "hsWQUpkGlpuZ",
        "outputId": "0990a312-0f38-44f1-9cb4-b5a93971b438"
      },
      "execution_count": null,
      "outputs": [
        {
          "output_type": "execute_result",
          "data": {
            "text/plain": [
              "4"
            ]
          },
          "metadata": {},
          "execution_count": 126
        }
      ]
    },
    {
      "cell_type": "code",
      "source": [
        ""
      ],
      "metadata": {
        "id": "9etXDGa5lpxg"
      },
      "execution_count": null,
      "outputs": []
    }
  ]
}